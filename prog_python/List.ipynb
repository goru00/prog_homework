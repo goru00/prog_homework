{
 "cells": [
  {
   "cell_type": "code",
   "execution_count": 270,
   "metadata": {},
   "outputs": [],
   "source": [
    "class Node:\n",
    "    def __init__(self, item, next = None):\n",
    "        self.item = item\n",
    "        self.next = next"
   ]
  },
  {
   "cell_type": "code",
   "execution_count": 271,
   "metadata": {},
   "outputs": [],
   "source": [
    "class List:\n",
    "    def __init__(self):\n",
    "        self.head = None\n",
    "        self.size = 0\n",
    "    def isEmpty(self):\n",
    "        return self.head is None\n",
    "    def pushFront(self, item):\n",
    "        if self.head is None:\n",
    "            self.head = Node(item)\n",
    "        else:\n",
    "            self.head = Node(item, self.head.next)\n",
    "    def pushBack(self, item):\n",
    "        if self.head is None:\n",
    "            self.head = Node(item)\n",
    "        else:\n",
    "            curr = self.head\n",
    "            while curr.next:\n",
    "                curr = curr.next\n",
    "            curr.next = Node(item)\n",
    "        self.size += 1\n",
    "    def insert(self, item, index):\n",
    "        if index == 0:\n",
    "            self.pushFront(item)\n",
    "        else: \n",
    "            prev = self.head\n",
    "            for pos in range(index):\n",
    "                prev = prev.next\n",
    "                pos += 1\n",
    "            newNode = Node(item, prev.next)\n",
    "            prev.next = newNode\n",
    "            self.size += 1\n",
    "    def popFront(self):\n",
    "        curr = temp = self.head\n",
    "        self.head = self.head.next\n",
    "        del curr\n",
    "        self.size -= 1\n",
    "        return temp.item\n",
    "    def show(self):\n",
    "        curr = self.head\n",
    "        while curr:\n",
    "            print(curr.item)\n",
    "            curr = curr.next"
   ]
  },
  {
   "cell_type": "code",
   "execution_count": 272,
   "metadata": {},
   "outputs": [],
   "source": [
    "class Data:\n",
    "    def __init__(self, __id = 0, __name = \"\", __direction = \"\", __price = 0):\n",
    "        self.__id = __id\n",
    "        self.__name = __name\n",
    "        self.__direction = __direction\n",
    "        self.__price = __price\n",
    "    def __lt__(self, other):\n",
    "        return self.__id < other.__id or (self.__id == other.__id and self.__name < other.__name)\n",
    "    def __gt__(self, other):\n",
    "        return self.__id > other.__id or (self.__id == other.__id and self.__name > other.__name)\n",
    "    def __str__(self):\n",
    "        return f\"{self.__id} {self.__name} {self.__direction} {self.__price}\""
   ]
  },
  {
   "cell_type": "code",
   "execution_count": 273,
   "metadata": {},
   "outputs": [
    {
     "name": "stdout",
     "output_type": "stream",
     "text": [
      "Удаленный элемент с начала списка: 2345 Иванов Сергей Степанович Разнорабочий 28000\n",
      "Весь список: \n",
      "2346 Краснов Сергей Георгиевич Сантехник 32000\n"
     ]
    }
   ],
   "source": [
    "list = List()\n",
    "\n",
    "list.pushFront(Data(2345, \"Иванов Сергей Степанович\", \"Разнорабочий\", 28000))\n",
    "list.pushBack(Data(2346, \"Краснов Сергей Георгиевич\", \"Сантехник\", 32000))\n",
    "\n",
    "print(f\"Удаленный элемент с начала списка: {list.popFront()}\")\n",
    "print(\"Весь список: \")\n",
    "list.show()"
   ]
  }
 ],
 "metadata": {
  "interpreter": {
   "hash": "916dbcbb3f70747c44a77c7bcd40155683ae19c65e1c03b4aa3499c5328201f1"
  },
  "kernelspec": {
   "display_name": "Python 3.8.10 64-bit",
   "language": "python",
   "name": "python3"
  },
  "language_info": {
   "codemirror_mode": {
    "name": "ipython",
    "version": 3
   },
   "file_extension": ".py",
   "mimetype": "text/x-python",
   "name": "python",
   "nbconvert_exporter": "python",
   "pygments_lexer": "ipython3",
   "version": "3.8.10"
  },
  "orig_nbformat": 4
 },
 "nbformat": 4,
 "nbformat_minor": 2
}
