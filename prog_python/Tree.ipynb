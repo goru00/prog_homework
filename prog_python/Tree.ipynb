{
 "cells": [
  {
   "cell_type": "code",
   "execution_count": 89,
   "metadata": {},
   "outputs": [],
   "source": [
    "class Data:\n",
    "    def __init__(self, __id = 0, __name = \"\", __direction = \"\", __price = 0):\n",
    "        self.__id = __id\n",
    "        self.__name = __name\n",
    "        self.__direction = __direction\n",
    "        self.__price = __price\n",
    "    def __lt__(self, other):\n",
    "        return self.__id < other.__id or (self.__id == other.__id and self.__name < other.__name)\n",
    "    def __gt__(self, other):\n",
    "        return self.__id > other.__id or (self.__id == other.__id and self.__name > other.__name)\n",
    "    def __str__(self):\n",
    "        return f\"{self.__id} {self.__name} {self.__direction} {self.__price}\"\n"
   ]
  },
  {
   "cell_type": "code",
   "execution_count": 90,
   "metadata": {},
   "outputs": [],
   "source": [
    "class Node:\n",
    "    def __init__(self, item = Data(), left = None, right = None):\n",
    "        self._item = item\n",
    "        self._left = left\n",
    "        self._right = right"
   ]
  },
  {
   "cell_type": "code",
   "execution_count": 91,
   "metadata": {},
   "outputs": [],
   "source": [
    "class Tree:\n",
    "    def __init__(self):\n",
    "        self.__root = None\n",
    "    def insert(self, item = Data()):\n",
    "        self.__root = self._insertNode(self.__root, item)\n",
    "    def _insertNode(self, node, item):\n",
    "        if node is None:\n",
    "            return Node(item)\n",
    "        if item < node._item:\n",
    "            node._left = self._insertNode(node._left, item)\n",
    "        elif item > node._item:\n",
    "            node._right = self._insertNode(node._right, item)\n",
    "        return node\n",
    "    def isEmpty(self):\n",
    "        return self.__root is None\n",
    "    def show(self):\n",
    "        self._showTree(self.__root)\n",
    "    def _showTree(self, node):\n",
    "        if node:\n",
    "            self._showTree(node._left)\n",
    "            print(node._item)\n",
    "            self._showTree(node._right)\n",
    "    "
   ]
  },
  {
   "cell_type": "code",
   "execution_count": 92,
   "metadata": {},
   "outputs": [
    {
     "name": "stdout",
     "output_type": "stream",
     "text": [
      "2345 Иванов Сергей Степанович Разнорабочий 28000\n",
      "2346 Краснов Сергей Георгиевич Сантехник 32000\n"
     ]
    }
   ],
   "source": [
    "tree = Tree()\n",
    "\n",
    "tree.insert(Data(2345, \"Иванов Сергей Степанович\", \"Разнорабочий\", 28000))\n",
    "tree.insert(Data(2346, \"Краснов Сергей Георгиевич\", \"Сантехник\", 32000))\n",
    "\n",
    "tree.show()"
   ]
  }
 ],
 "metadata": {
  "interpreter": {
   "hash": "916dbcbb3f70747c44a77c7bcd40155683ae19c65e1c03b4aa3499c5328201f1"
  },
  "kernelspec": {
   "display_name": "Python 3.8.10 64-bit",
   "language": "python",
   "name": "python3"
  },
  "language_info": {
   "codemirror_mode": {
    "name": "ipython",
    "version": 3
   },
   "file_extension": ".py",
   "mimetype": "text/x-python",
   "name": "python",
   "nbconvert_exporter": "python",
   "pygments_lexer": "ipython3",
   "version": "3.8.10"
  },
  "orig_nbformat": 4
 },
 "nbformat": 4,
 "nbformat_minor": 2
}
